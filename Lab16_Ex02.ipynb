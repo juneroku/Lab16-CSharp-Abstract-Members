{
 "cells": [
  {
   "cell_type": "markdown",
   "metadata": {},
   "source": [
    "# Lab 16 Exercise 2"
   ]
  },
  {
   "cell_type": "markdown",
   "metadata": {},
   "source": [
    "## Abstract class"
   ]
  },
  {
   "cell_type": "markdown",
   "metadata": {},
   "source": [
    "![alt text](./Pictures/image02.png)\n"
   ]
  },
  {
   "cell_type": "markdown",
   "metadata": {},
   "source": [
    "1.สร้าง console application project\n",
    "\n",
    "```cmd\n",
    "dotnet new console --name Lab16_Ex02\n",
    "```"
   ]
  },
  {
   "cell_type": "markdown",
   "metadata": {},
   "source": [
    "2.เปลี่ยน code ให้เป็นดังต่อไปนี้\n",
    "\n",
    "```csharp\n",
    "Shape[] shapes = new Shape[3];\n",
    "shapes[0] = new Rectangle();\n",
    "shapes[1] = new Triangle();\n",
    "shapes[2] = new Circle();\n",
    "\n",
    "foreach (var shape in shapes)\n",
    "{\n",
    "    shape.Draw();\n",
    "}\n",
    "\n",
    "abstract class Shape\n",
    "{\n",
    "    public abstract void Draw();\n",
    "}\n",
    "class Rectangle: Shape\n",
    "{\n",
    "    public override void Draw()\n",
    "    {\n",
    "        System.Console.WriteLine(\"Draw a rectangle\");\n",
    "    }\n",
    "}\n",
    "class Triangle: Shape\n",
    "{\n",
    "    public override void Draw()\n",
    "    {\n",
    "        System.Console.WriteLine(\"Draw a triangle\");\n",
    "    }\n",
    "}\n",
    "class Circle: Shape\n",
    "{\n",
    "    public override void Draw()\n",
    "    {\n",
    "        System.Console.WriteLine(\"Draw a circle\");\n",
    "    }\n",
    "}\n",
    "```"
   ]
  },
  {
   "cell_type": "markdown",
   "metadata": {},
   "source": [
    "3.Build project โดยการใช้คำสั่ง\n",
    "\n",
    "```cmd\n",
    "dotnet build  Lab16_Ex02\n",
    "```\n",
    "\n",
    "ถ้ามีที่ผิดพลาดในโปรแกรม ให้แก้ไขให้ถูกต้อง"
   ]
  },
  {
   "cell_type": "markdown",
   "metadata": {},
   "source": [
    "4.บันทึกผลที่ได้จากการรันคำสั่งในข้อ 3"
   ]
  },
  {
   "attachments": {
    "image.png": {
     "image/png": "[encoded data removed]"
    }
   },
   "cell_type": "markdown",
   "metadata": {},
   "source": [
    "![image.png](attachment:image.png)"
   ]
  },
  {
   "cell_type": "markdown",
   "metadata": {},
   "source": [
    "5.Run project โดยการใช้คำสั่ง\n",
    "\n",
    "```cmd\n",
    "dotnet run --project Lab16_Ex02\n",
    "```"
   ]
  },
  {
   "cell_type": "markdown",
   "metadata": {},
   "source": [
    "6.บันทึกผลที่ได้จากการรันคำสั่งในข้อ 5"
   ]
  },
  {
   "attachments": {
    "image.png": {
     "image/png": "[encoded data removed]"
    }
   },
   "cell_type": "markdown",
   "metadata": {},
   "source": [
    "![image.png](attachment:image.png)"
   ]
  },
  {
   "cell_type": "markdown",
   "metadata": {},
   "source": [
    "7.อธิบายสิ่งที่พบในการทดลอง"
   ]
  },
  {
   "cell_type": "markdown",
   "metadata": {},
   "source": [
    "คลาส Shape ถูกประกาศเป็น abstract, ซึ่งทำให้ไม่สามารถสร้างอ็อบเจกต์จากคลาสนี้โดยตรงได้. คลาสนี้เป็นฐานที่ให้คลาสลูกทำการ override เมธอด Draw().\n",
    "\n",
    "เมธอด Draw() ถูก override ในแต่ละคลาสลูก (เช่น Rectangle, Triangle, และ Circle), ซึ่งช่วยให้แต่ละคลาสมีพฤติกรรมที่แตกต่างกันเมื่อเรียกใช้เมธอดเดียวกัน\n"
   ]
  }
 ],
 "metadata": {
  "kernelspec": {
   "display_name": ".NET (C#)",
   "language": "C#",
   "name": ".net-csharp"
  },
  "polyglot_notebook": {
   "kernelInfo": {
    "defaultKernelName": "csharp",
    "items": [
     {
      "aliases": [],
      "languageName": "csharp",
      "name": "csharp"
     }
    ]
   }
  }
 },
 "nbformat": 4,
 "nbformat_minor": 2
}
