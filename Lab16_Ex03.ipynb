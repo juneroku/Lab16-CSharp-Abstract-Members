{
 "cells": [
  {
   "cell_type": "markdown",
   "metadata": {},
   "source": [
    "# Lab 16 Exercise 3"
   ]
  },
  {
   "cell_type": "markdown",
   "metadata": {},
   "source": [
    "## Abstract class\n"
   ]
  },
  {
   "cell_type": "markdown",
   "metadata": {},
   "source": [
    "1.สร้าง console application project\n",
    "\n",
    "```cmd\n",
    "dotnet new console --name Lab16_Ex03\n",
    "```"
   ]
  },
  {
   "cell_type": "markdown",
   "metadata": {},
   "source": [
    "2.เปลี่ยน code ให้เป็นดังต่อไปนี้\n",
    "\n",
    "```csharp\n",
    "Animal[] animals = new Animal[3];\n",
    "animals[0] = new Dog();\n",
    "animals[1] = new Fish();\n",
    "animals[2] = new Bird();\n",
    "\n",
    "foreach (var animal in animals)\n",
    "{\n",
    "    animal.Move();\n",
    "}\n",
    "\n",
    "abstract class Animal\n",
    "{\n",
    "    public abstract void Move();\n",
    "}\n",
    "class Dog: Animal\n",
    "{\n",
    "    public override void Move()\n",
    "    {\n",
    "        System.Console.WriteLine($\"{this.GetType()}: running on the ground\");\n",
    "    }\n",
    "}\n",
    "class Fish: Animal\n",
    "{\n",
    "    public override void Move()\n",
    "    {\n",
    "        System.Console.WriteLine($\"{this.GetType()}: swimming in water\");\n",
    "    }\n",
    "}\n",
    "class Bird: Animal\n",
    "{\n",
    "    public override void Move()\n",
    "    {\n",
    "        System.Console.WriteLine($\"{this.GetType()}: fly in the air\");\n",
    "    }\n",
    "}\n",
    "```"
   ]
  },
  {
   "cell_type": "markdown",
   "metadata": {},
   "source": [
    "3.Build project โดยการใช้คำสั่ง\n",
    "\n",
    "```cmd\n",
    "dotnet build  Lab16_Ex03\n",
    "```\n",
    "\n",
    "ถ้ามีที่ผิดพลาดในโปรแกรม ให้แก้ไขให้ถูกต้อง"
   ]
  },
  {
   "cell_type": "markdown",
   "metadata": {},
   "source": [
    "4.บันทึกผลที่ได้จากการรันคำสั่งในข้อ 3"
   ]
  },
  {
   "attachments": {
    "image.png": {
     "image/png": "[encoded data removed]"
    }
   },
   "cell_type": "markdown",
   "metadata": {},
   "source": [
    "![image.png](attachment:image.png)"
   ]
  },
  {
   "cell_type": "markdown",
   "metadata": {},
   "source": [
    "5.Run project โดยการใช้คำสั่ง\n",
    "\n",
    "```cmd\n",
    "dotnet run --project Lab16_Ex03\n",
    "```"
   ]
  },
  {
   "cell_type": "markdown",
   "metadata": {},
   "source": [
    "6.บันทึกผลที่ได้จากการรันคำสั่งในข้อ 5"
   ]
  },
  {
   "attachments": {
    "image.png": {
     "image/png": "[encoded data removed]"
    }
   },
   "cell_type": "markdown",
   "metadata": {},
   "source": [
    "![image.png](attachment:image.png)"
   ]
  },
  {
   "cell_type": "markdown",
   "metadata": {},
   "source": [
    "7.อธิบายสิ่งที่พบในการทดลอง"
   ]
  },
  {
   "cell_type": "markdown",
   "metadata": {},
   "source": [
    "ใช้หลักการของ Polymorphism, Abstract Classes, และ Method Overriding เพื่อแสดงให้เห็นถึงการทำงานของการสืบทอด (Inheritance) และการเขียนโปรแกรมที่ยืดหยุ่นผ่านการใช้คลาสฐาน abstract และการ override เมธอดในคลาสลูก"
   ]
  }
 ],
 "metadata": {
  "kernelspec": {
   "display_name": ".NET (C#)",
   "language": "C#",
   "name": ".net-csharp"
  },
  "polyglot_notebook": {
   "kernelInfo": {
    "defaultKernelName": "csharp",
    "items": [
     {
      "aliases": [],
      "languageName": "csharp",
      "name": "csharp"
     }
    ]
   }
  }
 },
 "nbformat": 4,
 "nbformat_minor": 2
}
